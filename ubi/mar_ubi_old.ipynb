{
 "cells": [
  {
   "cell_type": "code",
   "execution_count": null,
   "metadata": {
    "id": "vZTxqlUzpyuy"
   },
   "outputs": [],
   "source": [
    "%tensorflow_version 2.x\n",
    "import tensorflow as tf\n",
    "print(\"Tensorflow version \" + tf.__version__)\n",
    "\n",
    "try:\n",
    "  tpu = tf.distribute.cluster_resolver.TPUClusterResolver()  # TPU detection\n",
    "  print('Running on TPU ', tpu.cluster_spec().as_dict()['worker'])\n",
    "except ValueError:\n",
    "  raise BaseException('ERROR: Not connected to a TPU runtime; please see the previous cell in this notebook for instructions!')\n",
    "\n",
    "tf.config.experimental_connect_to_cluster(tpu)\n",
    "tf.tpu.experimental.initialize_tpu_system(tpu)\n",
    "tpu_strategy = tf.distribute.experimental.TPUStrategy(tpu)"
   ]
  },
  {
   "cell_type": "code",
   "execution_count": null,
   "metadata": {
    "colab": {
     "base_uri": "https://localhost:8080/"
    },
    "id": "O2Wm4LdDrTRC",
    "outputId": "ced7979d-22c0-4b70-bcd3-73ead450c34b"
   },
   "outputs": [
    {
     "name": "stdout",
     "output_type": "stream",
     "text": [
      "Kernel log downloaded to ./fast-data-loading-and-low-mem-with-parquet-files.log \n"
     ]
    }
   ],
   "source": [
    "!kaggle kernels output robikscube/fast-data-loading-and-low-mem-with-parquet-files/data?select=train_low_mem.parquet -p ."
   ]
  },
  {
   "cell_type": "code",
   "execution_count": null,
   "metadata": {
    "colab": {
     "base_uri": "https://localhost:8080/"
    },
    "id": "6LS4a00Ar8oZ",
    "outputId": "d794531d-6c53-4857-b5db-262ff0135f42"
   },
   "outputs": [
    {
     "name": "stdout",
     "output_type": "stream",
     "text": [
      "/bin/bash: /root/.kaggle/kaggle.json: No such file or directory\n",
      "chmod: cannot access '/root/.kaggle/kaggle.json': No such file or directory\n",
      "Traceback (most recent call last):\n",
      "  File \"/usr/local/bin/kaggle\", line 5, in <module>\n",
      "    from kaggle.cli import main\n",
      "  File \"/usr/local/lib/python3.7/dist-packages/kaggle/__init__.py\", line 23, in <module>\n",
      "    api.authenticate()\n",
      "  File \"/usr/local/lib/python3.7/dist-packages/kaggle/api/kaggle_api_extended.py\", line 166, in authenticate\n",
      "    self.config_file, self.config_dir))\n",
      "OSError: Could not find kaggle.json. Make sure it's located in /root/.kaggle. Or use the environment method.\n"
     ]
    }
   ],
   "source": [
    "#SKIP\n",
    "!echo '{\"username\":\"hackerinheels\",\"key\":\"82bbcfeae33614a0dabfa494a6ec3573\"}' > ~/.kaggle/kaggle.json\n",
    "!chmod 600 ~/.kaggle/kaggle.json\n",
    "!kaggle datasets download -d robikscube/ubiquant-parquet -f train_low_mem.parquet"
   ]
  },
  {
   "cell_type": "code",
   "execution_count": null,
   "metadata": {
    "colab": {
     "base_uri": "https://localhost:8080/"
    },
    "id": "Ff_6OAMft9zX",
    "outputId": "b9410f25-f1ca-4505-f908-84f9b11915c0"
   },
   "outputs": [
    {
     "name": "stdout",
     "output_type": "stream",
     "text": [
      "Downloading train_low_mem.parquet.zip to /content\n",
      "100% 3.06G/3.07G [00:24<00:00, 142MB/s]\n",
      "100% 3.07G/3.07G [00:24<00:00, 134MB/s]\n"
     ]
    }
   ],
   "source": []
  },
  {
   "cell_type": "code",
   "execution_count": 1,
   "metadata": {
    "colab": {
     "base_uri": "https://localhost:8080/"
    },
    "id": "61hamzx9mDgg",
    "outputId": "8e13680e-9537-4b5c-e6c4-fdb32f269188"
   },
   "outputs": [],
   "source": [
    "import pyarrow\n",
    "import pyarrow.parquet\n",
    "\n",
    "##Load data\n",
    "import pandas as pd\n",
    "import numpy as np\n",
    "#from google.colab import drive\n",
    "#drive.mount('/content/drive')"
   ]
  },
  {
   "cell_type": "code",
   "execution_count": 2,
   "metadata": {
    "id": "VTBWj-8oxTPw"
   },
   "outputs": [],
   "source": [
    "\n",
    "# Load the data\n",
    "#df = pd.read_parquet('train.parquet')\n",
    "df = pd.read_parquet('train_low_mem.parquet')\n",
    "# Lets look at the data"
   ]
  },
  {
   "cell_type": "code",
   "execution_count": 3,
   "metadata": {
    "colab": {
     "base_uri": "https://localhost:8080/"
    },
    "id": "88BYEys9vf5n",
    "outputId": "f58d5fad-a866-4831-b58b-6fa8a03907d3"
   },
   "outputs": [
    {
     "data": {
      "text/plain": [
       "(3141410, 304)"
      ]
     },
     "execution_count": 3,
     "metadata": {},
     "output_type": "execute_result"
    }
   ],
   "source": [
    "df.shape"
   ]
  },
  {
   "cell_type": "code",
   "execution_count": null,
   "metadata": {
    "id": "87c_18xdZx0A"
   },
   "outputs": [],
   "source": [
    "import matplotlib.pyplot as plt\n",
    "import seaborn as sns\n",
    "\n",
    "plt.figure(figsize=(16,5))\n",
    "plt.subplot(1,2,1)\n",
    "sns.distplot(df_filtered['f_0'])\n",
    "plt.subplot(1,2,2)\n",
    "sns.distplot(df_filtered['f_1'])\n",
    "plt.show()\n",
    "\n",
    "sns.boxplot(df_filtered['target'])\n"
   ]
  },
  {
   "cell_type": "code",
   "execution_count": null,
   "metadata": {
    "id": "cOTIjr-Jxcw-"
   },
   "outputs": [],
   "source": [
    "df_filtered = df \n",
    "\n",
    "# Create correlation matrix\n",
    "corr_matrix = df_filtered.corr().abs()\n",
    "\n",
    "# Select upper triangle of correlation matrix\n",
    "upper = corr_matrix.where(np.triu(np.ones(corr_matrix.shape), k=1).astype(np.bool))\n",
    "\n",
    "# Find features with correlation greater than 0.95\n",
    "to_drop = [column for column in upper.columns if any(upper[column] > 0.95)]\n",
    "\n",
    "# Drop features \n",
    "final = df_filtered.drop(to_drop, axis=1, inplace=True)"
   ]
  },
  {
   "cell_type": "code",
   "execution_count": null,
   "metadata": {
    "id": "F-p_ozWGx-vt"
   },
   "outputs": [],
   "source": []
  },
  {
   "cell_type": "code",
   "execution_count": null,
   "metadata": {
    "id": "QIxL4bHxxoAX"
   },
   "outputs": [],
   "source": [
    "final = df\n",
    "for i in range (0, 300):\n",
    "  colName = \"f_\" + str(i)\n",
    "  #print(colName + \"  \" + str(df_filtered.shape))\n",
    "  q_low = final[colName].quantile(0.001)\n",
    "  q_hi  = final[colName].quantile(0.999)  \n",
    "  final = final[(final[colName] < q_hi) & (final[colName] > q_low)]\n"
   ]
  },
  {
   "cell_type": "code",
   "execution_count": null,
   "metadata": {
    "id": "AL5cd0fXZqSG"
   },
   "outputs": [],
   "source": [
    "with open(path, 'w', encoding = 'utf-8-sig') as f:\n",
    "  final.to_parquet(f)\n"
   ]
  },
  {
   "cell_type": "code",
   "execution_count": 4,
   "metadata": {
    "colab": {
     "base_uri": "https://localhost:8080/"
    },
    "id": "7Y96mrr_mSCx",
    "outputId": "b0871a2a-c31a-4576-9a9e-1abde900be1a"
   },
   "outputs": [
    {
     "data": {
      "text/plain": [
       "(3141410, 302)"
      ]
     },
     "execution_count": 4,
     "metadata": {},
     "output_type": "execute_result"
    }
   ],
   "source": [
    "final = df\n",
    "y = final.target\n",
    "x = final\n",
    "x = x.drop(['row_id', 'target'], axis=1)\n",
    "y.shape\n",
    "x.shape"
   ]
  },
  {
   "cell_type": "code",
   "execution_count": null,
   "metadata": {
    "colab": {
     "base_uri": "https://localhost:8080/",
     "height": 299
    },
    "id": "utJrjgQGr_06",
    "outputId": "6004baa6-86e9-4cc4-be93-30a7d7e4738f"
   },
   "outputs": [
    {
     "data": {
      "text/html": [
       "\n",
       "  <div id=\"df-480801e8-06e8-4d1e-8604-84e625409198\">\n",
       "    <div class=\"colab-df-container\">\n",
       "      <div>\n",
       "<style scoped>\n",
       "    .dataframe tbody tr th:only-of-type {\n",
       "        vertical-align: middle;\n",
       "    }\n",
       "\n",
       "    .dataframe tbody tr th {\n",
       "        vertical-align: top;\n",
       "    }\n",
       "\n",
       "    .dataframe thead th {\n",
       "        text-align: right;\n",
       "    }\n",
       "</style>\n",
       "<table border=\"1\" class=\"dataframe\">\n",
       "  <thead>\n",
       "    <tr style=\"text-align: right;\">\n",
       "      <th></th>\n",
       "      <th>row_id</th>\n",
       "      <th>time_id</th>\n",
       "      <th>investment_id</th>\n",
       "      <th>target</th>\n",
       "      <th>f_0</th>\n",
       "      <th>f_1</th>\n",
       "      <th>f_2</th>\n",
       "      <th>f_3</th>\n",
       "      <th>f_4</th>\n",
       "      <th>f_5</th>\n",
       "      <th>...</th>\n",
       "      <th>f_290</th>\n",
       "      <th>f_291</th>\n",
       "      <th>f_292</th>\n",
       "      <th>f_293</th>\n",
       "      <th>f_294</th>\n",
       "      <th>f_295</th>\n",
       "      <th>f_296</th>\n",
       "      <th>f_297</th>\n",
       "      <th>f_298</th>\n",
       "      <th>f_299</th>\n",
       "    </tr>\n",
       "  </thead>\n",
       "  <tbody>\n",
       "    <tr>\n",
       "      <th>0</th>\n",
       "      <td>0_1</td>\n",
       "      <td>0</td>\n",
       "      <td>1</td>\n",
       "      <td>-0.300875</td>\n",
       "      <td>0.932573</td>\n",
       "      <td>0.113691</td>\n",
       "      <td>-0.402206</td>\n",
       "      <td>0.378386</td>\n",
       "      <td>-0.203938</td>\n",
       "      <td>-0.413469</td>\n",
       "      <td>...</td>\n",
       "      <td>0.366028</td>\n",
       "      <td>-1.095620</td>\n",
       "      <td>0.200075</td>\n",
       "      <td>0.819155</td>\n",
       "      <td>0.941183</td>\n",
       "      <td>-0.086764</td>\n",
       "      <td>-1.087009</td>\n",
       "      <td>-1.044826</td>\n",
       "      <td>-0.287605</td>\n",
       "      <td>0.321566</td>\n",
       "    </tr>\n",
       "    <tr>\n",
       "      <th>1</th>\n",
       "      <td>0_2</td>\n",
       "      <td>0</td>\n",
       "      <td>2</td>\n",
       "      <td>-0.231040</td>\n",
       "      <td>0.810802</td>\n",
       "      <td>-0.514115</td>\n",
       "      <td>0.742368</td>\n",
       "      <td>-0.616673</td>\n",
       "      <td>-0.194255</td>\n",
       "      <td>1.771210</td>\n",
       "      <td>...</td>\n",
       "      <td>-0.154193</td>\n",
       "      <td>0.912726</td>\n",
       "      <td>-0.734579</td>\n",
       "      <td>0.819155</td>\n",
       "      <td>0.941183</td>\n",
       "      <td>-0.387617</td>\n",
       "      <td>-1.087009</td>\n",
       "      <td>-0.929529</td>\n",
       "      <td>-0.974060</td>\n",
       "      <td>-0.343624</td>\n",
       "    </tr>\n",
       "    <tr>\n",
       "      <th>2</th>\n",
       "      <td>0_6</td>\n",
       "      <td>0</td>\n",
       "      <td>6</td>\n",
       "      <td>0.568807</td>\n",
       "      <td>0.393974</td>\n",
       "      <td>0.615937</td>\n",
       "      <td>0.567806</td>\n",
       "      <td>-0.607963</td>\n",
       "      <td>0.068883</td>\n",
       "      <td>-1.083155</td>\n",
       "      <td>...</td>\n",
       "      <td>-0.138020</td>\n",
       "      <td>0.912726</td>\n",
       "      <td>-0.551904</td>\n",
       "      <td>-1.220772</td>\n",
       "      <td>-1.060166</td>\n",
       "      <td>-0.219097</td>\n",
       "      <td>-1.087009</td>\n",
       "      <td>-0.612428</td>\n",
       "      <td>-0.113944</td>\n",
       "      <td>0.243608</td>\n",
       "    </tr>\n",
       "    <tr>\n",
       "      <th>4</th>\n",
       "      <td>0_8</td>\n",
       "      <td>0</td>\n",
       "      <td>8</td>\n",
       "      <td>-0.531940</td>\n",
       "      <td>0.842057</td>\n",
       "      <td>-0.262993</td>\n",
       "      <td>2.330030</td>\n",
       "      <td>-0.583422</td>\n",
       "      <td>-0.618392</td>\n",
       "      <td>-0.742814</td>\n",
       "      <td>...</td>\n",
       "      <td>-0.170365</td>\n",
       "      <td>0.912726</td>\n",
       "      <td>-0.741355</td>\n",
       "      <td>-1.220772</td>\n",
       "      <td>0.941183</td>\n",
       "      <td>-0.588445</td>\n",
       "      <td>0.104928</td>\n",
       "      <td>0.753279</td>\n",
       "      <td>1.345611</td>\n",
       "      <td>-0.737624</td>\n",
       "    </tr>\n",
       "    <tr>\n",
       "      <th>5</th>\n",
       "      <td>0_9</td>\n",
       "      <td>0</td>\n",
       "      <td>9</td>\n",
       "      <td>1.505904</td>\n",
       "      <td>0.608855</td>\n",
       "      <td>1.369305</td>\n",
       "      <td>-0.761515</td>\n",
       "      <td>0.865860</td>\n",
       "      <td>-0.359269</td>\n",
       "      <td>-1.835762</td>\n",
       "      <td>...</td>\n",
       "      <td>0.333684</td>\n",
       "      <td>-1.095620</td>\n",
       "      <td>-0.335999</td>\n",
       "      <td>0.819155</td>\n",
       "      <td>-1.060166</td>\n",
       "      <td>-0.343812</td>\n",
       "      <td>-1.087009</td>\n",
       "      <td>0.077862</td>\n",
       "      <td>0.142943</td>\n",
       "      <td>-0.055550</td>\n",
       "    </tr>\n",
       "  </tbody>\n",
       "</table>\n",
       "<p>5 rows × 304 columns</p>\n",
       "</div>\n",
       "      <button class=\"colab-df-convert\" onclick=\"convertToInteractive('df-480801e8-06e8-4d1e-8604-84e625409198')\"\n",
       "              title=\"Convert this dataframe to an interactive table.\"\n",
       "              style=\"display:none;\">\n",
       "        \n",
       "  <svg xmlns=\"http://www.w3.org/2000/svg\" height=\"24px\"viewBox=\"0 0 24 24\"\n",
       "       width=\"24px\">\n",
       "    <path d=\"M0 0h24v24H0V0z\" fill=\"none\"/>\n",
       "    <path d=\"M18.56 5.44l.94 2.06.94-2.06 2.06-.94-2.06-.94-.94-2.06-.94 2.06-2.06.94zm-11 1L8.5 8.5l.94-2.06 2.06-.94-2.06-.94L8.5 2.5l-.94 2.06-2.06.94zm10 10l.94 2.06.94-2.06 2.06-.94-2.06-.94-.94-2.06-.94 2.06-2.06.94z\"/><path d=\"M17.41 7.96l-1.37-1.37c-.4-.4-.92-.59-1.43-.59-.52 0-1.04.2-1.43.59L10.3 9.45l-7.72 7.72c-.78.78-.78 2.05 0 2.83L4 21.41c.39.39.9.59 1.41.59.51 0 1.02-.2 1.41-.59l7.78-7.78 2.81-2.81c.8-.78.8-2.07 0-2.86zM5.41 20L4 18.59l7.72-7.72 1.47 1.35L5.41 20z\"/>\n",
       "  </svg>\n",
       "      </button>\n",
       "      \n",
       "  <style>\n",
       "    .colab-df-container {\n",
       "      display:flex;\n",
       "      flex-wrap:wrap;\n",
       "      gap: 12px;\n",
       "    }\n",
       "\n",
       "    .colab-df-convert {\n",
       "      background-color: #E8F0FE;\n",
       "      border: none;\n",
       "      border-radius: 50%;\n",
       "      cursor: pointer;\n",
       "      display: none;\n",
       "      fill: #1967D2;\n",
       "      height: 32px;\n",
       "      padding: 0 0 0 0;\n",
       "      width: 32px;\n",
       "    }\n",
       "\n",
       "    .colab-df-convert:hover {\n",
       "      background-color: #E2EBFA;\n",
       "      box-shadow: 0px 1px 2px rgba(60, 64, 67, 0.3), 0px 1px 3px 1px rgba(60, 64, 67, 0.15);\n",
       "      fill: #174EA6;\n",
       "    }\n",
       "\n",
       "    [theme=dark] .colab-df-convert {\n",
       "      background-color: #3B4455;\n",
       "      fill: #D2E3FC;\n",
       "    }\n",
       "\n",
       "    [theme=dark] .colab-df-convert:hover {\n",
       "      background-color: #434B5C;\n",
       "      box-shadow: 0px 1px 3px 1px rgba(0, 0, 0, 0.15);\n",
       "      filter: drop-shadow(0px 1px 2px rgba(0, 0, 0, 0.3));\n",
       "      fill: #FFFFFF;\n",
       "    }\n",
       "  </style>\n",
       "\n",
       "      <script>\n",
       "        const buttonEl =\n",
       "          document.querySelector('#df-480801e8-06e8-4d1e-8604-84e625409198 button.colab-df-convert');\n",
       "        buttonEl.style.display =\n",
       "          google.colab.kernel.accessAllowed ? 'block' : 'none';\n",
       "\n",
       "        async function convertToInteractive(key) {\n",
       "          const element = document.querySelector('#df-480801e8-06e8-4d1e-8604-84e625409198');\n",
       "          const dataTable =\n",
       "            await google.colab.kernel.invokeFunction('convertToInteractive',\n",
       "                                                     [key], {});\n",
       "          if (!dataTable) return;\n",
       "\n",
       "          const docLinkHtml = 'Like what you see? Visit the ' +\n",
       "            '<a target=\"_blank\" href=https://colab.research.google.com/notebooks/data_table.ipynb>data table notebook</a>'\n",
       "            + ' to learn more about interactive tables.';\n",
       "          element.innerHTML = '';\n",
       "          dataTable['output_type'] = 'display_data';\n",
       "          await google.colab.output.renderOutput(dataTable, element);\n",
       "          const docLink = document.createElement('div');\n",
       "          docLink.innerHTML = docLinkHtml;\n",
       "          element.appendChild(docLink);\n",
       "        }\n",
       "      </script>\n",
       "    </div>\n",
       "  </div>\n",
       "  "
      ],
      "text/plain": [
       "  row_id  time_id  investment_id    target       f_0       f_1       f_2  \\\n",
       "0    0_1        0              1 -0.300875  0.932573  0.113691 -0.402206   \n",
       "1    0_2        0              2 -0.231040  0.810802 -0.514115  0.742368   \n",
       "2    0_6        0              6  0.568807  0.393974  0.615937  0.567806   \n",
       "4    0_8        0              8 -0.531940  0.842057 -0.262993  2.330030   \n",
       "5    0_9        0              9  1.505904  0.608855  1.369305 -0.761515   \n",
       "\n",
       "        f_3       f_4       f_5  ...     f_290     f_291     f_292     f_293  \\\n",
       "0  0.378386 -0.203938 -0.413469  ...  0.366028 -1.095620  0.200075  0.819155   \n",
       "1 -0.616673 -0.194255  1.771210  ... -0.154193  0.912726 -0.734579  0.819155   \n",
       "2 -0.607963  0.068883 -1.083155  ... -0.138020  0.912726 -0.551904 -1.220772   \n",
       "4 -0.583422 -0.618392 -0.742814  ... -0.170365  0.912726 -0.741355 -1.220772   \n",
       "5  0.865860 -0.359269 -1.835762  ...  0.333684 -1.095620 -0.335999  0.819155   \n",
       "\n",
       "      f_294     f_295     f_296     f_297     f_298     f_299  \n",
       "0  0.941183 -0.086764 -1.087009 -1.044826 -0.287605  0.321566  \n",
       "1  0.941183 -0.387617 -1.087009 -0.929529 -0.974060 -0.343624  \n",
       "2 -1.060166 -0.219097 -1.087009 -0.612428 -0.113944  0.243608  \n",
       "4  0.941183 -0.588445  0.104928  0.753279  1.345611 -0.737624  \n",
       "5 -1.060166 -0.343812 -1.087009  0.077862  0.142943 -0.055550  \n",
       "\n",
       "[5 rows x 304 columns]"
      ]
     },
     "execution_count": 19,
     "metadata": {},
     "output_type": "execute_result"
    }
   ],
   "source": [
    "final.head()"
   ]
  },
  {
   "cell_type": "code",
   "execution_count": 7,
   "metadata": {
    "colab": {
     "base_uri": "https://localhost:8080/"
    },
    "id": "avAIIUYOsPWI",
    "outputId": "76ededf2-76ff-4095-cdfa-134cc32583c9"
   },
   "outputs": [
    {
     "data": {
      "text/plain": [
       "0   -0.300875\n",
       "1   -0.231040\n",
       "2    0.568807\n",
       "3   -1.064780\n",
       "4   -0.531940\n",
       "Name: target, dtype: float32"
      ]
     },
     "execution_count": 7,
     "metadata": {},
     "output_type": "execute_result"
    }
   ],
   "source": [
    "y.head()"
   ]
  },
  {
   "cell_type": "code",
   "execution_count": 9,
   "metadata": {
    "colab": {
     "base_uri": "https://localhost:8080/"
    },
    "id": "szte3FMirsSK",
    "outputId": "ff384b8d-c546-4f80-f470-fe8c5e2ab5d9"
   },
   "outputs": [
    {
     "data": {
      "text/plain": [
       "(3141410,)"
      ]
     },
     "execution_count": 9,
     "metadata": {},
     "output_type": "execute_result"
    }
   ],
   "source": [
    "y.shape\n"
   ]
  },
  {
   "cell_type": "code",
   "execution_count": null,
   "metadata": {
    "id": "6PjnV0R2sJCS"
   },
   "outputs": [],
   "source": [
    "\n",
    "plt.figure(figsize=(16,5))\n",
    "plt.subplot(1,2,1)\n",
    "sns.distplot(df_filtered['f_0'])\n",
    "plt.subplot(1,2,2)\n",
    "sns.distplot(df_filtered['f_1'])\n",
    "plt.show()\n",
    "\n",
    "sns.boxplot(df_filtered['target'])"
   ]
  },
  {
   "cell_type": "code",
   "execution_count": 5,
   "metadata": {
    "id": "7N19weM8ncoV"
   },
   "outputs": [],
   "source": [
    "import pickle\n",
    "filename = 'mar_model_2.sav'\n"
   ]
  },
  {
   "cell_type": "code",
   "execution_count": 6,
   "metadata": {
    "id": "EdYODzlvRqpH"
   },
   "outputs": [],
   "source": [
    "from sklearn.model_selection import train_test_split\n",
    "# Divide data into training and validation subsets\n",
    "X_train, X_valid, y_train, y_valid = train_test_split(x, y, train_size=0.8, test_size=0.2,\n",
    "                                                      random_state=0)\n",
    "from sklearn.ensemble import RandomForestRegressor\n",
    "from sklearn.metrics import mean_absolute_error\n",
    "\n",
    "# Function for comparing different approaches\n",
    "def score_dataset(X_train, X_valid, y_train, y_valid):\n",
    "    model = RandomForestRegressor(n_estimators=10, random_state=0)\n",
    "    model.fit(X_train, y_train)\n",
    "    preds = model.predict(X_valid)\n",
    "    return mean_absolute_error(y_valid, preds)"
   ]
  },
  {
   "cell_type": "code",
   "execution_count": 7,
   "metadata": {
    "id": "kVSo4X7xTeFc"
   },
   "outputs": [
    {
     "name": "stdout",
     "output_type": "stream",
     "text": [
      "0.6646375362010147\n"
     ]
    }
   ],
   "source": [
    "print(score_dataset(X_train, X_valid, y_train, y_valid))\n"
   ]
  },
  {
   "cell_type": "code",
   "execution_count": 10,
   "metadata": {},
   "outputs": [],
   "source": [
    "import pickle\n",
    "filename = 'randomforest_model.sav'"
   ]
  },
  {
   "cell_type": "code",
   "execution_count": 12,
   "metadata": {},
   "outputs": [],
   "source": [
    "#with open('randomforest_model.sav','wb') as f:\n",
    "#    pickle.dump(model,f)\n",
    "filename = 'catboost_model.sav'\n",
    "with open('catboost_model.sav','wb') as f:\n",
    "    pickle.dump(catmodel,f)"
   ]
  },
  {
   "cell_type": "code",
   "execution_count": 8,
   "metadata": {},
   "outputs": [
    {
     "data": {
      "application/vnd.jupyter.widget-view+json": {
       "model_id": "5e2412f425994b0ebcb10f5f1994daae",
       "version_major": 2,
       "version_minor": 0
      },
      "text/plain": [
       "MetricVisualizer(layout=Layout(align_self='stretch', height='500px'))"
      ]
     },
     "metadata": {},
     "output_type": "display_data"
    },
    {
     "name": "stdout",
     "output_type": "stream",
     "text": [
      "Learning rate set to 0.065217\n",
      "0:\tlearn: 0.9186757\ttest: 0.9214050\tbest: 0.9214050 (0)\ttotal: 476ms\tremaining: 39m 38s\n",
      "100:\tlearn: 0.9104463\ttest: 0.9136808\tbest: 0.9136808 (100)\ttotal: 34.6s\tremaining: 27m 56s\n",
      "200:\tlearn: 0.9079422\ttest: 0.9116779\tbest: 0.9116779 (200)\ttotal: 1m 8s\tremaining: 27m 15s\n",
      "300:\tlearn: 0.9055735\ttest: 0.9099931\tbest: 0.9099931 (300)\ttotal: 1m 44s\tremaining: 27m 10s\n",
      "400:\tlearn: 0.9033799\ttest: 0.9085168\tbest: 0.9085168 (400)\ttotal: 2m 23s\tremaining: 27m 28s\n",
      "500:\tlearn: 0.9015091\ttest: 0.9073528\tbest: 0.9073528 (500)\ttotal: 3m 3s\tremaining: 27m 26s\n",
      "600:\tlearn: 0.8997394\ttest: 0.9062725\tbest: 0.9062725 (600)\ttotal: 3m 44s\tremaining: 27m 20s\n",
      "700:\tlearn: 0.8980883\ttest: 0.9052770\tbest: 0.9052770 (700)\ttotal: 4m 26s\tremaining: 27m 14s\n",
      "800:\tlearn: 0.8965535\ttest: 0.9044496\tbest: 0.9044496 (800)\ttotal: 5m 8s\tremaining: 26m 55s\n",
      "900:\tlearn: 0.8951039\ttest: 0.9037084\tbest: 0.9037084 (900)\ttotal: 5m 50s\tremaining: 26m 36s\n",
      "1000:\tlearn: 0.8937383\ttest: 0.9030436\tbest: 0.9030436 (1000)\ttotal: 6m 34s\tremaining: 26m 17s\n",
      "1100:\tlearn: 0.8924296\ttest: 0.9024354\tbest: 0.9024325 (1099)\ttotal: 7m 18s\tremaining: 25m 53s\n",
      "1200:\tlearn: 0.8911316\ttest: 0.9018601\tbest: 0.9018601 (1200)\ttotal: 8m 1s\tremaining: 25m 21s\n",
      "1300:\tlearn: 0.8898523\ttest: 0.9012566\tbest: 0.9012566 (1300)\ttotal: 8m 44s\tremaining: 24m 52s\n",
      "1400:\tlearn: 0.8885806\ttest: 0.9006403\tbest: 0.9006403 (1400)\ttotal: 9m 29s\tremaining: 24m 22s\n",
      "1500:\tlearn: 0.8873801\ttest: 0.9000477\tbest: 0.9000477 (1500)\ttotal: 10m 14s\tremaining: 23m 52s\n",
      "1600:\tlearn: 0.8862589\ttest: 0.8996365\tbest: 0.8996365 (1600)\ttotal: 10m 57s\tremaining: 23m 15s\n",
      "1700:\tlearn: 0.8851425\ttest: 0.8991458\tbest: 0.8991458 (1700)\ttotal: 11m 42s\tremaining: 22m 41s\n",
      "1800:\tlearn: 0.8840996\ttest: 0.8987582\tbest: 0.8987582 (1800)\ttotal: 12m 25s\tremaining: 22m 4s\n",
      "1900:\tlearn: 0.8830256\ttest: 0.8982991\tbest: 0.8982991 (1900)\ttotal: 13m 12s\tremaining: 21m 31s\n",
      "2000:\tlearn: 0.8820041\ttest: 0.8979343\tbest: 0.8979343 (2000)\ttotal: 13m 55s\tremaining: 20m 52s\n",
      "2100:\tlearn: 0.8809811\ttest: 0.8974890\tbest: 0.8974890 (2100)\ttotal: 14m 43s\tremaining: 20m 19s\n",
      "2200:\tlearn: 0.8799833\ttest: 0.8971065\tbest: 0.8971065 (2200)\ttotal: 15m 35s\tremaining: 19m 50s\n",
      "2300:\tlearn: 0.8790142\ttest: 0.8967800\tbest: 0.8967800 (2300)\ttotal: 16m 30s\tremaining: 19m 21s\n",
      "2400:\tlearn: 0.8780375\ttest: 0.8963607\tbest: 0.8963607 (2400)\ttotal: 17m 26s\tremaining: 18m 52s\n",
      "2500:\tlearn: 0.8771068\ttest: 0.8960367\tbest: 0.8960354 (2498)\ttotal: 18m 21s\tremaining: 18m 20s\n",
      "2600:\tlearn: 0.8762312\ttest: 0.8957912\tbest: 0.8957912 (2600)\ttotal: 19m 12s\tremaining: 17m 43s\n",
      "2700:\tlearn: 0.8753395\ttest: 0.8955155\tbest: 0.8955155 (2700)\ttotal: 20m 6s\tremaining: 17m 6s\n",
      "2800:\tlearn: 0.8744681\ttest: 0.8952299\tbest: 0.8952299 (2800)\ttotal: 20m 58s\tremaining: 16m 28s\n",
      "2900:\tlearn: 0.8735776\ttest: 0.8949332\tbest: 0.8949332 (2900)\ttotal: 21m 53s\tremaining: 15m 50s\n",
      "3000:\tlearn: 0.8727164\ttest: 0.8946507\tbest: 0.8946507 (3000)\ttotal: 22m 48s\tremaining: 15m 11s\n",
      "3100:\tlearn: 0.8718825\ttest: 0.8943941\tbest: 0.8943940 (3097)\ttotal: 23m 43s\tremaining: 14m 31s\n",
      "3200:\tlearn: 0.8710494\ttest: 0.8941504\tbest: 0.8941504 (3200)\ttotal: 24m 36s\tremaining: 13m 49s\n",
      "3300:\tlearn: 0.8702204\ttest: 0.8939092\tbest: 0.8939092 (3300)\ttotal: 25m 32s\tremaining: 13m 8s\n",
      "3400:\tlearn: 0.8694236\ttest: 0.8936957\tbest: 0.8936957 (3400)\ttotal: 26m 28s\tremaining: 12m 26s\n",
      "3500:\tlearn: 0.8686173\ttest: 0.8934844\tbest: 0.8934844 (3500)\ttotal: 27m 24s\tremaining: 11m 44s\n",
      "3600:\tlearn: 0.8678466\ttest: 0.8933147\tbest: 0.8933147 (3600)\ttotal: 28m 19s\tremaining: 11m\n",
      "3700:\tlearn: 0.8670609\ttest: 0.8931012\tbest: 0.8931012 (3700)\ttotal: 29m 16s\tremaining: 10m 16s\n",
      "3800:\tlearn: 0.8662674\ttest: 0.8928271\tbest: 0.8928271 (3800)\ttotal: 29m 51s\tremaining: 9m 25s\n",
      "3900:\tlearn: 0.8655221\ttest: 0.8926639\tbest: 0.8926639 (3900)\ttotal: 30m 20s\tremaining: 8m 32s\n",
      "4000:\tlearn: 0.8647706\ttest: 0.8924889\tbest: 0.8924889 (4000)\ttotal: 30m 50s\tremaining: 7m 42s\n",
      "4100:\tlearn: 0.8640218\ttest: 0.8922896\tbest: 0.8922896 (4100)\ttotal: 31m 20s\tremaining: 6m 52s\n",
      "4200:\tlearn: 0.8632636\ttest: 0.8920650\tbest: 0.8920650 (4200)\ttotal: 31m 50s\tremaining: 6m 3s\n",
      "4300:\tlearn: 0.8625259\ttest: 0.8918854\tbest: 0.8918854 (4300)\ttotal: 32m 20s\tremaining: 5m 15s\n",
      "4400:\tlearn: 0.8617891\ttest: 0.8916553\tbest: 0.8916553 (4400)\ttotal: 32m 57s\tremaining: 4m 29s\n",
      "4500:\tlearn: 0.8610672\ttest: 0.8914609\tbest: 0.8914609 (4500)\ttotal: 33m 33s\tremaining: 3m 43s\n",
      "4600:\tlearn: 0.8604006\ttest: 0.8913180\tbest: 0.8913180 (4600)\ttotal: 34m 11s\tremaining: 2m 57s\n",
      "4700:\tlearn: 0.8596698\ttest: 0.8911058\tbest: 0.8911058 (4700)\ttotal: 34m 50s\tremaining: 2m 12s\n",
      "4800:\tlearn: 0.8589741\ttest: 0.8909375\tbest: 0.8909356 (4798)\ttotal: 35m 29s\tremaining: 1m 28s\n",
      "4900:\tlearn: 0.8582528\ttest: 0.8907268\tbest: 0.8907256 (4898)\ttotal: 36m 9s\tremaining: 43.8s\n",
      "4999:\tlearn: 0.8575672\ttest: 0.8905922\tbest: 0.8905922 (4999)\ttotal: 36m 50s\tremaining: 0us\n",
      "\n",
      "bestTest = 0.8905922216\n",
      "bestIteration = 4999\n",
      "\n"
     ]
    },
    {
     "data": {
      "text/plain": [
       "0.06675346173969654"
      ]
     },
     "execution_count": 8,
     "metadata": {},
     "output_type": "execute_result"
    }
   ],
   "source": [
    "import catboost\n",
    "from catboost import CatBoostRegressor, Pool, cv\n",
    "\n",
    "train_pool = Pool(X_train, y_train)\n",
    "validation_pool = Pool(X_valid, y_valid)\n",
    "\n",
    "catmodel = CatBoostRegressor(iterations=5000,  random_seed=42, early_stopping_rounds=50)\n",
    "\n",
    "catmodel.fit(train_pool, eval_set=validation_pool, verbose=100, plot=True)\n",
    "catmodel.score(X_valid,y_valid)\n",
    "\n"
   ]
  },
  {
   "cell_type": "code",
   "execution_count": null,
   "metadata": {},
   "outputs": [],
   "source": [
    "from transformers import TrainingArguments,Trainer\n",
    "bs = 128\n",
    "epochs = 4\n",
    "lr = 8e-5\n",
    "args = TrainingArguments('outputs', learning_rate=lr, warmup_ratio=0.1, lr_scheduler_type='cosine', fp16=True,\n",
    "    evaluation_strategy=\"epoch\", per_device_train_batch_size=bs, per_device_eval_batch_size=bs*2,\n",
    "    num_train_epochs=epochs, weight_decay=0.01, report_to='none')\n",
    "\n",
    "model = AutoModelForSequenceClassification.from_pretrained(model_nm, num_labels=1)\n",
    "trainer = Trainer(model, args, train_dataset=dds['train'], eval_dataset=dds['test'],\n",
    "                  tokenizer=tokz, compute_metrics=corr_d)\n",
    "\n",
    "trainer.train()\n",
    "preds = trainer.predict(eval_ds).predictions.astype(float)\n",
    "preds"
   ]
  },
  {
   "cell_type": "code",
   "execution_count": 9,
   "metadata": {},
   "outputs": [
    {
     "ename": "NameError",
     "evalue": "name 'px' is not defined",
     "output_type": "error",
     "traceback": [
      "\u001b[0;31m---------------------------------------------------------------------------\u001b[0m",
      "\u001b[0;31mNameError\u001b[0m                                 Traceback (most recent call last)",
      "Input \u001b[0;32mIn [9]\u001b[0m, in \u001b[0;36m<cell line: 3>\u001b[0;34m()\u001b[0m\n\u001b[1;32m      1\u001b[0m ax\u001b[38;5;241m=\u001b[39mcatmodel\u001b[38;5;241m.\u001b[39mget_feature_importance(\u001b[38;5;28mtype\u001b[39m\u001b[38;5;241m=\u001b[39m\u001b[38;5;124m'\u001b[39m\u001b[38;5;124mPredictionValuesChange\u001b[39m\u001b[38;5;124m'\u001b[39m,prettified\u001b[38;5;241m=\u001b[39m\u001b[38;5;28;01mTrue\u001b[39;00m)\n\u001b[0;32m----> 3\u001b[0m fig \u001b[38;5;241m=\u001b[39m \u001b[43mpx\u001b[49m\u001b[38;5;241m.\u001b[39mbar(ax, x\u001b[38;5;241m=\u001b[39m\u001b[38;5;124m'\u001b[39m\u001b[38;5;124mFeature Id\u001b[39m\u001b[38;5;124m'\u001b[39m,y\u001b[38;5;241m=\u001b[39m[\u001b[38;5;124m'\u001b[39m\u001b[38;5;124mImportances\u001b[39m\u001b[38;5;124m'\u001b[39m],\n\u001b[1;32m      4\u001b[0m               title\u001b[38;5;241m=\u001b[39m\u001b[38;5;124m\"\u001b[39m\u001b[38;5;124mCat Boost predictors importance - Prediction value change\u001b[39m\u001b[38;5;124m\"\u001b[39m,\n\u001b[1;32m      5\u001b[0m               color_discrete_sequence\u001b[38;5;241m=\u001b[39mpx\u001b[38;5;241m.\u001b[39mcolors\u001b[38;5;241m.\u001b[39mqualitative\u001b[38;5;241m.\u001b[39mPrism)\u001b[38;5;241m.\u001b[39mupdate_layout( \n\u001b[1;32m      6\u001b[0m     paper_bgcolor\u001b[38;5;241m=\u001b[39m\u001b[38;5;124m'\u001b[39m\u001b[38;5;124mrgb(243, 243, 243)\u001b[39m\u001b[38;5;124m'\u001b[39m,\n\u001b[1;32m      7\u001b[0m     plot_bgcolor\u001b[38;5;241m=\u001b[39m\u001b[38;5;124m'\u001b[39m\u001b[38;5;124mrgb(243, 243, 243)\u001b[39m\u001b[38;5;124m'\u001b[39m)\n\u001b[1;32m      9\u001b[0m fig\u001b[38;5;241m.\u001b[39mshow()\n",
      "\u001b[0;31mNameError\u001b[0m: name 'px' is not defined"
     ]
    }
   ],
   "source": [
    "ax=catmodel.get_feature_importance(type='PredictionValuesChange',prettified=True)\n",
    "\n",
    "fig = px.bar(ax, x='Feature Id',y=['Importances'],\n",
    "              title=\"Cat Boost predictors importance - Prediction value change\",\n",
    "              color_discrete_sequence=px.colors.qualitative.Prism).update_layout( \n",
    "    paper_bgcolor='rgb(243, 243, 243)',\n",
    "    plot_bgcolor='rgb(243, 243, 243)')\n",
    "\n",
    "fig.show()"
   ]
  },
  {
   "cell_type": "code",
   "execution_count": null,
   "metadata": {
    "id": "svPoIyPgmV1B"
   },
   "outputs": [],
   "source": [
    "!pip install pytorch-tabnet\n",
    "from pytorch_tabnet.tab_model import TabNetRegressor\n",
    "from sklearn.model_selection import TimeSeriesSplit\n",
    "from sklearn.metrics import mean_absolute_error\n",
    "\n",
    "regressor = TabNetRegressor(verbose=0,seed=42)\n"
   ]
  },
  {
   "cell_type": "code",
   "execution_count": null,
   "metadata": {
    "colab": {
     "base_uri": "https://localhost:8080/"
    },
    "id": "Ny51Dybx-ofL",
    "outputId": "a1721395-707c-49fe-f65e-e1681b6b6caf"
   },
   "outputs": [
    {
     "data": {
      "text/plain": [
       "202"
      ]
     },
     "execution_count": 20,
     "metadata": {},
     "output_type": "execute_result"
    }
   ],
   "source": [
    "import gc\n",
    "gc.collect()"
   ]
  },
  {
   "cell_type": "code",
   "execution_count": null,
   "metadata": {
    "id": "laUaOBkZxN1m"
   },
   "outputs": [],
   "source": []
  },
  {
   "cell_type": "code",
   "execution_count": null,
   "metadata": {
    "id": "VDZhCOpYvPYG"
   },
   "outputs": [],
   "source": [
    "df_filtered.corrwith(df_filtered['target']).plot(kind='barh',figsize=[200,100], legend=True,grid=True)\n"
   ]
  },
  {
   "cell_type": "code",
   "execution_count": null,
   "metadata": {
    "colab": {
     "base_uri": "https://localhost:8080/"
    },
    "id": "Uy2gGevMmYGM",
    "outputId": "dd66374f-873e-47d0-a1d9-c2747ad62d45"
   },
   "outputs": [
    {
     "name": "stdout",
     "output_type": "stream",
     "text": [
      "[    0     1     2 ... 81968 81969 81970] [ 81971  81972  81973 ... 163938 163939 163940]\n",
      "Stop training because you reached max_epochs = 100 with best_epoch = 1 and best_val_0_rmse = 0.7871699929237366\n",
      "Best weights from best epoch are automatically used!\n",
      "The CV score is 0.78717\n",
      "[     0      1      2 ... 163938 163939 163940] [163941 163942 163943 ... 245908 245909 245910]\n"
     ]
    }
   ],
   "source": [
    "tscv = TimeSeriesSplit(n_splits = 20)\n",
    "rmse = []\n",
    "CV_score_array    =[]\n",
    "predictions_array =[]\n",
    "\n",
    "for train_index, test_index in tscv.split(x):\n",
    "    print(train_index, test_index)\n",
    "    X_train, X_valid = x.iloc[train_index], x.iloc[test_index]\n",
    "    y_train, y_valid = y.iloc[train_index], y.iloc[test_index]\n",
    "\n",
    "    X_train      = X_train.to_numpy()\n",
    "    y_train = y_train.to_numpy().reshape(-1, 1)\n",
    "    \n",
    "    X_valid      = X_valid.to_numpy()\n",
    "    y_valid = y_valid.to_numpy().reshape(-1, 1)\n",
    "    \n",
    "    regressor.fit(X_train=X_train, y_train=y_train,\n",
    "              eval_set=[(X_valid, y_valid)],\n",
    "              patience=300, max_epochs=100,\n",
    "              eval_metric=['rmse'])\n",
    "    predictions = regressor.predict(X_valid)\n",
    "    pickle.dump(regressor, open(filename, 'wb'))\n",
    "    CV_score_array.append(regressor.best_cost)\n",
    "    print(\"The CV score is %.5f\" % np.mean(CV_score_array,axis=0) )\n",
    "    predictions_array.append(np.expm1(predictions))\n",
    "\n",
    "\n",
    "!cp filename \"/content/drive/My Drive/\""
   ]
  },
  {
   "cell_type": "code",
   "execution_count": null,
   "metadata": {
    "id": "2L9XAFRT_5Du"
   },
   "outputs": [],
   "source": [
    "!cp filename \"/content/drive/My Drive/\"\n"
   ]
  },
  {
   "cell_type": "code",
   "execution_count": null,
   "metadata": {
    "id": "3wTRImyLmd1R"
   },
   "outputs": [],
   "source": [
    "# load the model from disk\n",
    "regressor = pickle.load(open(filename, 'rb'))\n",
    "#result = loaded_model.score(X_test, Y_test)\n",
    "#print(result)\n"
   ]
  },
  {
   "cell_type": "code",
   "execution_count": null,
   "metadata": {
    "colab": {
     "base_uri": "https://localhost:8080/"
    },
    "id": "I_lQK_qtmk2-",
    "outputId": "4d615d83-d1af-4b21-e75d-d381fa9c1f67"
   },
   "outputs": [
    {
     "name": "stdout",
     "output_type": "stream",
     "text": [
      "Mounted at /content/drive\n"
     ]
    }
   ],
   "source": []
  }
 ],
 "metadata": {
  "accelerator": "TPU",
  "colab": {
   "collapsed_sections": [],
   "machine_shape": "hm",
   "name": "mar ubi.ipynb",
   "provenance": []
  },
  "kernelspec": {
   "display_name": "Python 3 (ipykernel)",
   "language": "python",
   "name": "python3"
  },
  "language_info": {
   "codemirror_mode": {
    "name": "ipython",
    "version": 3
   },
   "file_extension": ".py",
   "mimetype": "text/x-python",
   "name": "python",
   "nbconvert_exporter": "python",
   "pygments_lexer": "ipython3",
   "version": "3.9.10"
  }
 },
 "nbformat": 4,
 "nbformat_minor": 1
}
