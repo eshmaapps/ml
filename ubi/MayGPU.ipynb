{
 "cells": [
  {
   "cell_type": "code",
   "execution_count": 1,
   "id": "ce6db13b",
   "metadata": {},
   "outputs": [
    {
     "ename": "ModuleNotFoundError",
     "evalue": "No module named 'tensorflow'",
     "output_type": "error",
     "traceback": [
      "\u001b[0;31m---------------------------------------------------------------------------\u001b[0m",
      "\u001b[0;31mModuleNotFoundError\u001b[0m                       Traceback (most recent call last)",
      "Input \u001b[0;32mIn [1]\u001b[0m, in \u001b[0;36m<cell line: 1>\u001b[0;34m()\u001b[0m\n\u001b[0;32m----> 1\u001b[0m \u001b[38;5;28;01mimport\u001b[39;00m \u001b[38;5;21;01mtensorflow\u001b[39;00m \u001b[38;5;28;01mas\u001b[39;00m \u001b[38;5;21;01mtf\u001b[39;00m\n\u001b[1;32m      2\u001b[0m \u001b[38;5;28;01mfrom\u001b[39;00m \u001b[38;5;21;01mtensorflow\u001b[39;00m\u001b[38;5;21;01m.\u001b[39;00m\u001b[38;5;21;01mpython\u001b[39;00m\u001b[38;5;21;01m.\u001b[39;00m\u001b[38;5;21;01mclient\u001b[39;00m \u001b[38;5;28;01mimport\u001b[39;00m device_lib\n\u001b[1;32m      3\u001b[0m tf\u001b[38;5;241m.\u001b[39mconfig\u001b[38;5;241m.\u001b[39mlist_physical_devices(\u001b[38;5;124m'\u001b[39m\u001b[38;5;124mGPU\u001b[39m\u001b[38;5;124m'\u001b[39m)\n",
      "\u001b[0;31mModuleNotFoundError\u001b[0m: No module named 'tensorflow'"
     ]
    }
   ],
   "source": [
    "import tensorflow as tf\n",
    "from tensorflow.python.client import device_lib\n",
    "tf.config.list_physical_devices('GPU')"
   ]
  },
  {
   "cell_type": "code",
   "execution_count": null,
   "id": "6e0b4ecd",
   "metadata": {},
   "outputs": [],
   "source": [
    "!pip install tensorflow"
   ]
  },
  {
   "cell_type": "code",
   "execution_count": 4,
   "id": "8e6b7d31",
   "metadata": {},
   "outputs": [
    {
     "name": "stdout",
     "output_type": "stream",
     "text": [
      "Collecting pandas\n",
      "  Downloading pandas-1.4.2-cp39-cp39-macosx_11_0_arm64.whl (10.1 MB)\n",
      "\u001b[2K     \u001b[90m━━━━━━━━━━━━━━━━━━━━━━━━━━━━━━━━━━━━━━━━\u001b[0m \u001b[32m10.1/10.1 MB\u001b[0m \u001b[31m5.4 MB/s\u001b[0m eta \u001b[36m0:00:00\u001b[0m00:01\u001b[0m0:01\u001b[0m\n",
      "\u001b[?25hRequirement already satisfied: python-dateutil>=2.8.1 in /Users/abhisheksinghal/miniforge3/lib/python3.9/site-packages (from pandas) (2.8.2)\n",
      "Requirement already satisfied: pytz>=2020.1 in /Users/abhisheksinghal/miniforge3/lib/python3.9/site-packages (from pandas) (2022.1)\n",
      "Requirement already satisfied: numpy>=1.20.0 in /Users/abhisheksinghal/miniforge3/lib/python3.9/site-packages (from pandas) (1.22.3)\n",
      "Requirement already satisfied: six>=1.5 in /Users/abhisheksinghal/miniforge3/lib/python3.9/site-packages (from python-dateutil>=2.8.1->pandas) (1.15.0)\n",
      "Installing collected packages: pandas\n",
      "Successfully installed pandas-1.4.2\n"
     ]
    }
   ],
   "source": [
    "!pip install pandas"
   ]
  },
  {
   "cell_type": "code",
   "execution_count": 7,
   "id": "9a53bef2",
   "metadata": {},
   "outputs": [
    {
     "name": "stdout",
     "output_type": "stream",
     "text": [
      "Collecting torch\n",
      "  Downloading torch-1.11.0-cp39-none-macosx_11_0_arm64.whl (43.1 MB)\n",
      "\u001b[2K     \u001b[90m━━━━━━━━━━━━━━━━━━━━━━━━━━━━━━━━━━━━━━━━\u001b[0m \u001b[32m43.1/43.1 MB\u001b[0m \u001b[31m5.6 MB/s\u001b[0m eta \u001b[36m0:00:00\u001b[0m00:01\u001b[0m00:01\u001b[0m\n",
      "\u001b[?25hRequirement already satisfied: typing-extensions in /Users/abhisheksinghal/miniforge3/lib/python3.9/site-packages (from torch) (3.7.4.3)\n",
      "Installing collected packages: torch\n",
      "Successfully installed torch-1.11.0\n"
     ]
    }
   ],
   "source": [
    "!pip install torch"
   ]
  },
  {
   "cell_type": "code",
   "execution_count": 9,
   "id": "90973854",
   "metadata": {},
   "outputs": [
    {
     "name": "stdout",
     "output_type": "stream",
     "text": [
      "Collecting pytorch_tabnet\n",
      "  Using cached pytorch_tabnet-3.1.1-py3-none-any.whl (39 kB)\n",
      "Requirement already satisfied: tqdm<5.0,>=4.36 in /Users/abhisheksinghal/miniforge3/lib/python3.9/site-packages (from pytorch_tabnet) (4.63.0)\n",
      "Requirement already satisfied: torch<2.0,>=1.2 in /Users/abhisheksinghal/miniforge3/lib/python3.9/site-packages (from pytorch_tabnet) (1.11.0)\n",
      "Requirement already satisfied: scipy>1.4 in /Users/abhisheksinghal/miniforge3/lib/python3.9/site-packages (from pytorch_tabnet) (1.8.0)\n",
      "Requirement already satisfied: numpy<2.0,>=1.17 in /Users/abhisheksinghal/miniforge3/lib/python3.9/site-packages (from pytorch_tabnet) (1.22.3)\n",
      "Collecting scikit_learn>0.21\n",
      "  Downloading scikit_learn-1.1.1-cp39-cp39-macosx_12_0_arm64.whl (7.7 MB)\n",
      "\u001b[2K     \u001b[90m━━━━━━━━━━━━━━━━━━━━━━━━━━━━━━━━━━━━━━━━\u001b[0m \u001b[32m7.7/7.7 MB\u001b[0m \u001b[31m4.6 MB/s\u001b[0m eta \u001b[36m0:00:00\u001b[0m00:01\u001b[0m00:01\u001b[0m\n",
      "\u001b[?25hCollecting threadpoolctl>=2.0.0\n",
      "  Using cached threadpoolctl-3.1.0-py3-none-any.whl (14 kB)\n",
      "Collecting joblib>=1.0.0\n",
      "  Using cached joblib-1.1.0-py2.py3-none-any.whl (306 kB)\n",
      "Requirement already satisfied: typing-extensions in /Users/abhisheksinghal/miniforge3/lib/python3.9/site-packages (from torch<2.0,>=1.2->pytorch_tabnet) (3.7.4.3)\n",
      "Installing collected packages: threadpoolctl, joblib, scikit_learn, pytorch_tabnet\n",
      "Successfully installed joblib-1.1.0 pytorch_tabnet-3.1.1 scikit_learn-1.1.1 threadpoolctl-3.1.0\n"
     ]
    }
   ],
   "source": [
    "!pip install pytorch_tabnet"
   ]
  },
  {
   "cell_type": "code",
   "execution_count": 2,
   "id": "d6db5d5b",
   "metadata": {},
   "outputs": [
    {
     "name": "stdout",
     "output_type": "stream",
     "text": [
      "(942961, 302)\n",
      "(942961,)\n"
     ]
    }
   ],
   "source": [
    "\n",
    "import pickle \n",
    "##Load data\n",
    "import pandas as pd\n",
    "import numpy as np\n",
    "\n",
    "# Load the data\n",
    "df = pd.read_csv('/Users/abhisheksinghal/Documents/garima/MLLearning/ubi/supp.csv')\n",
    "\n",
    "df.head()\n",
    "\n",
    "y = df.target\n",
    "x = df\n",
    "x = x.drop(['target', 'row_id'], axis=1)\n",
    "print(x.shape)\n",
    "print(y.shape)\n",
    "filename = \"/Users/abhisheksinghal/Documents/garima/MLLearning/ubi/mar_model.sav\"\n",
    "final = \"/Users/abhisheksinghal/Documents/garima/MLLearning/ubi/final_model.sav\"\n",
    "\n",
    "\n",
    "import torch\n",
    "from torch import nn\n",
    "from torch.utils.data import DataLoader, Dataset\n",
    "import torch.optim as optim\n",
    "import torch.nn.functional as F\n",
    "\n"
   ]
  },
  {
   "cell_type": "code",
   "execution_count": 3,
   "id": "06302778",
   "metadata": {},
   "outputs": [
    {
     "name": "stdout",
     "output_type": "stream",
     "text": [
      "Device used : cpu\n"
     ]
    }
   ],
   "source": [
    "from pytorch_tabnet.tab_model import TabNetRegressor\n",
    "from sklearn.model_selection import TimeSeriesSplit\n",
    "from sklearn.metrics import mean_absolute_error\n",
    "\n",
    "tabnet_params = dict(n_d=24, n_a=24, n_steps=1, gamma=1.3,\n",
    "                     lambda_sparse=0, optimizer_fn=torch.optim.Adam,\n",
    "                     optimizer_params=dict(lr=2e-2, weight_decay=1e-5),\n",
    "                     mask_type='entmax',\n",
    "                     scheduler_params=dict(mode=\"min\",\n",
    "                                           patience=5,\n",
    "                                           min_lr=1e-5,\n",
    "                                           factor=0.9,),\n",
    "                     scheduler_fn=torch.optim.lr_scheduler.ReduceLROnPlateau,\n",
    "                     verbose=10,\n",
    "                     )\n",
    "regressor = TabNetRegressor(**tabnet_params)\n",
    "\n",
    "# load the model from disk\n",
    "regressor = pickle.load(open(filename, 'rb'))\n",
    "\n"
   ]
  },
  {
   "cell_type": "code",
   "execution_count": 3,
   "id": "95d77619",
   "metadata": {},
   "outputs": [
    {
     "ename": "NameError",
     "evalue": "name 'TimeSeriesSplit' is not defined",
     "output_type": "error",
     "traceback": [
      "\u001b[0;31m---------------------------------------------------------------------------\u001b[0m",
      "\u001b[0;31mNameError\u001b[0m                                 Traceback (most recent call last)",
      "Input \u001b[0;32mIn [3]\u001b[0m, in \u001b[0;36m<cell line: 1>\u001b[0;34m()\u001b[0m\n\u001b[0;32m----> 1\u001b[0m tscv \u001b[38;5;241m=\u001b[39m \u001b[43mTimeSeriesSplit\u001b[49m(n_splits \u001b[38;5;241m=\u001b[39m \u001b[38;5;241m20\u001b[39m)\n\u001b[1;32m      2\u001b[0m rmse \u001b[38;5;241m=\u001b[39m []\n\u001b[1;32m      3\u001b[0m CV_score_array    \u001b[38;5;241m=\u001b[39m[]\n",
      "\u001b[0;31mNameError\u001b[0m: name 'TimeSeriesSplit' is not defined"
     ]
    }
   ],
   "source": [
    "tscv = TimeSeriesSplit(n_splits = 20)\n",
    "rmse = []\n",
    "CV_score_array    =[]\n",
    "predictions_array =[]\n",
    "\n",
    "for train_index, test_index in tscv.split(x):\n",
    "    X_train, X_valid = x.iloc[train_index], x.iloc[test_index]\n",
    "    y_train, y_valid = y[train_index], y[test_index]\n",
    "\n",
    "    X_train      = X_train.to_numpy()\n",
    "    y_train = y_train.to_numpy().reshape(-1, 1)\n",
    "    \n",
    "    X_valid      = X_valid.to_numpy()\n",
    "    y_valid = y_valid.to_numpy().reshape(-1, 1)\n",
    "    \n",
    "    regressor.fit(X_train=X_train, y_train=y_train,\n",
    "              eval_set=[(X_valid, y_valid)],\n",
    "              patience=300, max_epochs=100,\n",
    "              eval_metric=['rmse'])\n",
    "\n",
    "    predictions = regressor.predict(X_valid)\n",
    "    pickle.dump(regressor, open(final, 'wb'))\n",
    "    CV_score_array.append(regressor.best_cost)\n",
    "    print(\"The CV score is %.5f\" % np.mean(CV_score_array,axis=0) )\n",
    "    predictions_array.append(np.expm1(predictions))\n",
    "    \n",
    "pickle.dump(regressor, open(final, 'wb'))"
   ]
  },
  {
   "cell_type": "code",
   "execution_count": null,
   "id": "f421ee4a",
   "metadata": {},
   "outputs": [],
   "source": []
  }
 ],
 "metadata": {
  "kernelspec": {
   "display_name": "Python 3 (ipykernel)",
   "language": "python",
   "name": "python3"
  },
  "language_info": {
   "codemirror_mode": {
    "name": "ipython",
    "version": 3
   },
   "file_extension": ".py",
   "mimetype": "text/x-python",
   "name": "python",
   "nbconvert_exporter": "python",
   "pygments_lexer": "ipython3",
   "version": "3.10.4"
  }
 },
 "nbformat": 4,
 "nbformat_minor": 5
}
