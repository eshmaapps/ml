{
 "cells": [
  {
   "cell_type": "code",
   "execution_count": 1,
   "metadata": {},
   "outputs": [],
   "source": [
    "import pandas as pd\n",
    "import numpy as np\n",
    "from sklearn.linear_model import LinearRegression \n",
    "from sklearn.metrics import r2_score\n",
    "\n",
    "df_train = pd.read_csv('train.csv')\n",
    "df_test = pd.read_csv('test.csv')\n",
    "\n",
    "x_train = df_train['x']\n",
    "y_train = df_train['y']\n",
    "x_test = df_test['x']\n",
    "y_test = df_test['y']\n",
    "\n",
    "x_train = np.array(x_train)\n",
    "y_train = np.array(y_train)\n",
    "x_test = np.array(x_test)\n",
    "y_test = np.array(y_test)\n"
   ]
  },
  {
   "cell_type": "code",
   "execution_count": 4,
   "metadata": {},
   "outputs": [
    {
     "data": {
      "text/plain": [
       "array([ 24,  50,  15,  38,  87,  36,  12,  81,  25,   5,  16,  16,  24,\n",
       "        39,  54,  60,  26,  73,  29,  31,  68,  87,  58,  54,  84,  58,\n",
       "        49,  20,  90,  48,   4,  25,  42,   0,  60,  93,  39,   7,  21,\n",
       "        68,  84,   0,  58,  19,  36,  19,  59,  51,  19,  33,  85,  44,\n",
       "         5,  59,  14,   9,  75,  69,  10,  17,  58,  74,  21,  51,  19,\n",
       "        50,  24,   0,  12,  75,  21,  64,   5,  58,  32,  41,   7,   4,\n",
       "         5,  49,  90,   3,  11,  32,  83,  25,  83,  26,  76,  95,  53,\n",
       "        77,  42,  25,  54,  55,   0,  73,  35,  86,  90,  13,  46,  46,\n",
       "        32,   8,  71,  28,  24,  56,  49,  79,  90,  89,  41,  27,  58,\n",
       "        26,  31,  70,  71,  39,   7,  48,  56,  45,  41,   3,  37,  24,\n",
       "        68,  47,  27,  68,  74,  95,  79,  21,  95,  54,  56,  80,  26,\n",
       "        25,   8,  95,  94,  54,   7,  99,  36,  48,  65,  42,  93,  86,\n",
       "        26,  51, 100,  94,   6,  24,  75,   7,  53,  73,  16,  80,  77,\n",
       "        89,  80,  55,  19,  56,  47,  56,   2,  82,  57,  44,  26,  52,\n",
       "        41,  44,   3,  31,  97,  21,  17,   7,  61,  10,  52,  10,  65,\n",
       "        71,   4,  24,  26,  51,  42,  62,  74,  77,   3,  50,  24,  37,\n",
       "        58,  52,  27,  14,  72,   5,  71,  54,  84,  42,  54,  74,  54,\n",
       "        53,  78,  97,  49,  71,  48,  51,  89,  99,  93,  49,  18,  65,\n",
       "        83, 100,  41,  52,  29,  97,   7,  51,  58,  50,  67,  89,  76,\n",
       "        35,  99,  31,  52,  11,  66,  50,  39,  60,  35,  53,  14,  49,\n",
       "        16,  76,  13,  51,  70,  98,  86, 100,  46,  51,  50,  91,  48,\n",
       "        81,  38,  40,  79,  96,  60,  70,  44,  11,   6,   5,  72,  55,\n",
       "        95,  41,  25,   1,  55,   4,  48,  55,  75,  68, 100,  25,  75,\n",
       "        34,  38,  92,  21,  88,  75,  76,  44,  10,  21,  16,  32,  13,\n",
       "        26,  70,  77,  77,  88,  35,  24,  17,  91,  32,  36,  89,  69,\n",
       "        30,   6,  22,  67,   9,  74,  50,  85,   3,   0,  59,  62,  17,\n",
       "        90,  23,  19,  93,  14,  58,  87,  37,  20,  35,  63,  56,  62,\n",
       "        98,  90,  51,  93,  22,  38,  13,  98,  99,  31,  94,  73,  37,\n",
       "        23,  11,  88,  47,  79,  91,  71,  10,  39,  92,  99,  28,  32,\n",
       "        32,  75,  99,  27,  64,  98,  38,  46,  13,  96,   9,  34,  49,\n",
       "         1,  50,  94,  27,  20,  12,  45,  91,  61,  10,  47,  33,  84,\n",
       "        24,  48,  48,   9,  93,  99,   8,  20,  38,  78,  81,  42,  95,\n",
       "        78,  44,  68,  87,  58,  52,  26,  75,  48,  71,  77,  34,  24,\n",
       "        70,  29,  76,  98,  28,  87,   9,  87,  33,  64,  17,  49,  95,\n",
       "        75,  89,  81,  25,  47,  50,   5,  68,  84,   8,  41,  26,  89,\n",
       "        78,  34,  92,  27,  12,   2,  22,   0,  26,  50,  84,  70,  66,\n",
       "        42,  19,  94,  71,  19,  16,  49,  29,  29,  86,  50,  86,  30,\n",
       "        23,  20,  16,  57,   8,   8,  62,  55,  30,  86,  62,  51,  61,\n",
       "        86,  61,  21,  81,  97,   5,  61,  47,  98,  30,  63,   0, 100,\n",
       "        18,  30,  98,  16,  22,  55,  43,  75,  91,  46,  85,  55,  36,\n",
       "        49,  94,  43,  22,  37,  24,  95,  61,  75,  68,  58,   5,  53,\n",
       "        80,  83,  25,  34,  26,  90,  60,  49,  19,  92,  29,   8,  57,\n",
       "        29,  19,  81,  50,  15,  70,  39,  43,  21,  98,  86,  16,  25,\n",
       "        31,  93,  67,  49,  25,  88,  54,  21,   8,  32,  35,  67,  90,\n",
       "        59,  15,  67,  42,  44,  77,  68,  36,  11,  10,  65,  98,  98,\n",
       "        49,  31,  56,  70,  91,  25,  54,  39,  91,   3,  22,   2,   2,\n",
       "        65,  71,  42,  76,  43,   8,  86,  87,   3,  58,  62,  89,  95,\n",
       "        28,   0,   1,  49,  21,  46,  11,  89,  37,  29,  44,  96,  16,\n",
       "        74,  35,  42,  16,  56,  18, 100,  54,  92,  63,  81,  73,  48,\n",
       "         1,  85,  14,  25,  45,  98,  97,  58,  93,  88,  89,  47,   6,\n",
       "        34,  30,  16,  86,  40,  52,  15,   4,  95,  99,  35,  58,  10,\n",
       "        16,  53,  58,  42,  24,  84,  64,  12,  61,  75,  15, 100,  43,\n",
       "        13,  48,  45,  52,  34,  30,  65, 100,  67,  99,  45,  87,  73,\n",
       "         9,  81,  72,  81,  58,  93,  82,  66,  97])"
      ]
     },
     "execution_count": 4,
     "metadata": {},
     "output_type": "execute_result"
    }
   ],
   "source": [
    "\n",
    "x_train\n"
   ]
  },
  {
   "cell_type": "code",
   "execution_count": 5,
   "metadata": {},
   "outputs": [
    {
     "data": {
      "text/plain": [
       "(300,)"
      ]
     },
     "execution_count": 5,
     "metadata": {},
     "output_type": "execute_result"
    }
   ],
   "source": [
    "x_test.shape\n"
   ]
  },
  {
   "cell_type": "code",
   "execution_count": 6,
   "metadata": {},
   "outputs": [
    {
     "data": {
      "text/plain": [
       "(698, 1)"
      ]
     },
     "execution_count": 6,
     "metadata": {},
     "output_type": "execute_result"
    }
   ],
   "source": [
    "\n",
    "x_train = x_train.reshape(-1,1)\n",
    "x_test = x_test.reshape(-1,1)\n",
    "x_train.shape\n"
   ]
  },
  {
   "cell_type": "code",
   "execution_count": 7,
   "metadata": {},
   "outputs": [
    {
     "data": {
      "text/plain": [
       "(300, 1)"
      ]
     },
     "execution_count": 7,
     "metadata": {},
     "output_type": "execute_result"
    }
   ],
   "source": [
    "x_test.shape"
   ]
  },
  {
   "cell_type": "code",
   "execution_count": 7,
   "metadata": {},
   "outputs": [],
   "source": [
    "x_train = x_train.astype(np.float)\n",
    "y_train = y_train.astype(np.float)\n"
   ]
  },
  {
   "cell_type": "code",
   "execution_count": 22,
   "metadata": {},
   "outputs": [
    {
     "data": {
      "text/plain": [
       "LinearRegression(normalize=True)"
      ]
     },
     "execution_count": 22,
     "metadata": {},
     "output_type": "execute_result"
    }
   ],
   "source": [
    "clf = LinearRegression(normalize=True)\n",
    "clf.fit(x_train,y_train)\n"
   ]
  },
  {
   "cell_type": "code",
   "execution_count": 23,
   "metadata": {},
   "outputs": [
    {
     "name": "stdout",
     "output_type": "stream",
     "text": [
      "(698,)\n"
     ]
    }
   ],
   "source": [
    "print(y_train.shape)\n",
    "index = 0\n",
    "for i in y_train:\n",
    "    if not np.isfinite(i):\n",
    "        print(index, i)\n",
    "        print(index+1, y_train[index+1])\n",
    "    index +=1"
   ]
  },
  {
   "cell_type": "code",
   "execution_count": 24,
   "metadata": {},
   "outputs": [
    {
     "name": "stdout",
     "output_type": "stream",
     "text": [
      "0.9888012437997503\n"
     ]
    }
   ],
   "source": [
    "y_pred = clf.predict(x_test)\n",
    "print(r2_score(y_test,y_pred))"
   ]
  },
  {
   "cell_type": "code",
   "execution_count": 29,
   "metadata": {},
   "outputs": [
    {
     "data": {
      "image/png": "[encoded data removed]",
      "text/plain": [
       "<Figure size 720x720 with 1 Axes>"
      ]
     },
     "metadata": {
      "needs_background": "light"
     },
     "output_type": "display_data"
    }
   ],
   "source": [
    "import matplotlib.pyplot as plt \n",
    "\n",
    "plt.figure(figsize=(10,10))\n",
    "plt.scatter(x_test,y_test,color='red',label='GT')\n",
    "plt.plot(x_test,y_pred,color='black',label = 'pred')\n",
    "\n",
    "plt.legend()\n",
    "plt.show()"
   ]
  },
  {
   "cell_type": "code",
   "execution_count": null,
   "metadata": {},
   "outputs": [],
   "source": []
  }
 ],
 "metadata": {
  "kernelspec": {
   "display_name": "Python 3 (ipykernel)",
   "language": "python",
   "name": "python3"
  },
  "language_info": {
   "codemirror_mode": {
    "name": "ipython",
    "version": 3
   },
   "file_extension": ".py",
   "mimetype": "text/x-python",
   "name": "python",
   "nbconvert_exporter": "python",
   "pygments_lexer": "ipython3",
   "version": "3.9.10"
  }
 },
 "nbformat": 4,
 "nbformat_minor": 4
}
